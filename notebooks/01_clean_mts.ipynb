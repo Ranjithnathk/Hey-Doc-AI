{
 "cells": [
  {
   "cell_type": "markdown",
   "id": "fc844684",
   "metadata": {},
   "source": []
  },
  {
   "cell_type": "code",
   "execution_count": 1,
   "id": "2844d6d7",
   "metadata": {},
   "outputs": [
    {
     "name": "stderr",
     "output_type": "stream",
     "text": [
      "c:\\Users\\ranji\\My Projects\\Projects\\HeyDocAI\\HeyDocAI\\venv\\lib\\site-packages\\tqdm\\auto.py:21: TqdmWarning: IProgress not found. Please update jupyter and ipywidgets. See https://ipywidgets.readthedocs.io/en/stable/user_install.html\n",
      "  from .autonotebook import tqdm as notebook_tqdm\n"
     ]
    }
   ],
   "source": [
    "from datasets import load_from_disk\n",
    "from pathlib import Path"
   ]
  },
  {
   "cell_type": "code",
   "execution_count": 2,
   "id": "6c022a09",
   "metadata": {},
   "outputs": [
    {
     "data": {
      "text/plain": [
       "'c:\\\\Users\\\\ranji\\\\My Projects\\\\Projects\\\\HeyDocAI\\\\HeyDocAI\\\\notebooks'"
      ]
     },
     "execution_count": 2,
     "metadata": {},
     "output_type": "execute_result"
    }
   ],
   "source": [
    "%pwd"
   ]
  },
  {
   "cell_type": "code",
   "execution_count": 4,
   "id": "6a8355d1",
   "metadata": {},
   "outputs": [
    {
     "data": {
      "text/plain": [
       "DatasetDict({\n",
       "    train: Dataset({\n",
       "        features: ['ID', 'section_header', 'section_text', 'dialogue'],\n",
       "        num_rows: 1301\n",
       "    })\n",
       "})"
      ]
     },
     "execution_count": 4,
     "metadata": {},
     "output_type": "execute_result"
    }
   ],
   "source": [
    "mts_path = Path(\"../datasets/MTS_Dialogue-Clinical_Note\").resolve()\n",
    "mts = load_from_disk(str(mts_path))\n",
    "mts"
   ]
  },
  {
   "cell_type": "code",
   "execution_count": 6,
   "id": "259c684a",
   "metadata": {},
   "outputs": [
    {
     "data": {
      "text/html": [
       "<div>\n",
       "<style scoped>\n",
       "    .dataframe tbody tr th:only-of-type {\n",
       "        vertical-align: middle;\n",
       "    }\n",
       "\n",
       "    .dataframe tbody tr th {\n",
       "        vertical-align: top;\n",
       "    }\n",
       "\n",
       "    .dataframe thead th {\n",
       "        text-align: right;\n",
       "    }\n",
       "</style>\n",
       "<table border=\"1\" class=\"dataframe\">\n",
       "  <thead>\n",
       "    <tr style=\"text-align: right;\">\n",
       "      <th></th>\n",
       "      <th>ID</th>\n",
       "      <th>section_header</th>\n",
       "      <th>section_text</th>\n",
       "      <th>dialogue</th>\n",
       "    </tr>\n",
       "  </thead>\n",
       "  <tbody>\n",
       "    <tr>\n",
       "      <th>0</th>\n",
       "      <td>0</td>\n",
       "      <td>GENHX</td>\n",
       "      <td>Symptoms: no fever, no chills, no cough, no co...</td>\n",
       "      <td>Doctor: What brings you back into the clinic t...</td>\n",
       "    </tr>\n",
       "    <tr>\n",
       "      <th>1</th>\n",
       "      <td>1</td>\n",
       "      <td>GENHX</td>\n",
       "      <td>Symptoms: sudden onset headache, blurry vision...</td>\n",
       "      <td>Doctor: How're you feeling today?  \\nPatient: ...</td>\n",
       "    </tr>\n",
       "    <tr>\n",
       "      <th>2</th>\n",
       "      <td>2</td>\n",
       "      <td>GENHX</td>\n",
       "      <td>Symptoms: itching.\\nDiagnosis: condylomas.\\nHi...</td>\n",
       "      <td>Doctor: Hello, miss. What is the reason for yo...</td>\n",
       "    </tr>\n",
       "    <tr>\n",
       "      <th>3</th>\n",
       "      <td>3</td>\n",
       "      <td>MEDICATIONS</td>\n",
       "      <td>Symptoms: N/A.\\r\\nDiagnosis: N/A.\\r\\nHistory o...</td>\n",
       "      <td>Doctor: Are you taking any over the counter me...</td>\n",
       "    </tr>\n",
       "    <tr>\n",
       "      <th>4</th>\n",
       "      <td>4</td>\n",
       "      <td>CC</td>\n",
       "      <td>Symptoms: Burn, right arm.\\r\\nDiagnosis: N/A.\\...</td>\n",
       "      <td>Doctor: Hi, how are you? \\nPatient: I burned m...</td>\n",
       "    </tr>\n",
       "  </tbody>\n",
       "</table>\n",
       "</div>"
      ],
      "text/plain": [
       "   ID section_header                                       section_text  \\\n",
       "0   0          GENHX  Symptoms: no fever, no chills, no cough, no co...   \n",
       "1   1          GENHX  Symptoms: sudden onset headache, blurry vision...   \n",
       "2   2          GENHX  Symptoms: itching.\\nDiagnosis: condylomas.\\nHi...   \n",
       "3   3    MEDICATIONS  Symptoms: N/A.\\r\\nDiagnosis: N/A.\\r\\nHistory o...   \n",
       "4   4             CC  Symptoms: Burn, right arm.\\r\\nDiagnosis: N/A.\\...   \n",
       "\n",
       "                                            dialogue  \n",
       "0  Doctor: What brings you back into the clinic t...  \n",
       "1  Doctor: How're you feeling today?  \\nPatient: ...  \n",
       "2  Doctor: Hello, miss. What is the reason for yo...  \n",
       "3  Doctor: Are you taking any over the counter me...  \n",
       "4  Doctor: Hi, how are you? \\nPatient: I burned m...  "
      ]
     },
     "execution_count": 6,
     "metadata": {},
     "output_type": "execute_result"
    }
   ],
   "source": [
    "df = mts['train'].to_pandas()\n",
    "df.head()  "
   ]
  },
  {
   "cell_type": "code",
   "execution_count": 7,
   "id": "60401b43",
   "metadata": {},
   "outputs": [
    {
     "data": {
      "text/plain": [
       "Index(['ID', 'section_header', 'section_text', 'dialogue'], dtype='object')"
      ]
     },
     "execution_count": 7,
     "metadata": {},
     "output_type": "execute_result"
    }
   ],
   "source": [
    "df.columns"
   ]
  },
  {
   "cell_type": "code",
   "execution_count": 8,
   "id": "a68c06a0",
   "metadata": {},
   "outputs": [
    {
     "name": "stdout",
     "output_type": "stream",
     "text": [
      "<class 'pandas.core.frame.DataFrame'>\n",
      "RangeIndex: 1301 entries, 0 to 1300\n",
      "Data columns (total 4 columns):\n",
      " #   Column          Non-Null Count  Dtype \n",
      "---  ------          --------------  ----- \n",
      " 0   ID              1301 non-null   int64 \n",
      " 1   section_header  1301 non-null   object\n",
      " 2   section_text    1301 non-null   object\n",
      " 3   dialogue        1301 non-null   object\n",
      "dtypes: int64(1), object(3)\n",
      "memory usage: 40.8+ KB\n"
     ]
    }
   ],
   "source": [
    "df.info()"
   ]
  },
  {
   "cell_type": "code",
   "execution_count": 10,
   "id": "eb6ee595",
   "metadata": {},
   "outputs": [
    {
     "data": {
      "text/plain": [
       "ID                0\n",
       "section_header    0\n",
       "section_text      0\n",
       "dialogue          0\n",
       "dtype: int64"
      ]
     },
     "execution_count": 10,
     "metadata": {},
     "output_type": "execute_result"
    }
   ],
   "source": [
    "df.isna().sum()"
   ]
  },
  {
   "cell_type": "code",
   "execution_count": 11,
   "id": "6cbc5cf0",
   "metadata": {},
   "outputs": [
    {
     "data": {
      "text/plain": [
       "(1301, 4)"
      ]
     },
     "execution_count": 11,
     "metadata": {},
     "output_type": "execute_result"
    }
   ],
   "source": [
    "df.shape"
   ]
  },
  {
   "cell_type": "code",
   "execution_count": 16,
   "id": "d863f61b",
   "metadata": {},
   "outputs": [],
   "source": [
    "df_clean = df[\n",
    "    (df['dialogue'].str.len() > 50) &\n",
    "    (df['section_text'].str.len() > 5)\n",
    "]"
   ]
  },
  {
   "cell_type": "code",
   "execution_count": 17,
   "id": "e4e1e849",
   "metadata": {},
   "outputs": [
    {
     "data": {
      "text/plain": [
       "(1290, 4)"
      ]
     },
     "execution_count": 17,
     "metadata": {},
     "output_type": "execute_result"
    }
   ],
   "source": [
    "df_clean.shape"
   ]
  },
  {
   "cell_type": "code",
   "execution_count": 18,
   "id": "ed578af9",
   "metadata": {},
   "outputs": [],
   "source": [
    "df_clean = df_clean.drop_duplicates(subset=['dialogue', 'section_text'])"
   ]
  },
  {
   "cell_type": "code",
   "execution_count": 19,
   "id": "d11ea670",
   "metadata": {},
   "outputs": [
    {
     "data": {
      "text/plain": [
       "(1290, 4)"
      ]
     },
     "execution_count": 19,
     "metadata": {},
     "output_type": "execute_result"
    }
   ],
   "source": [
    "df_clean.shape"
   ]
  },
  {
   "cell_type": "code",
   "execution_count": 20,
   "id": "80a0d7fe",
   "metadata": {},
   "outputs": [
    {
     "data": {
      "text/html": [
       "<div>\n",
       "<style scoped>\n",
       "    .dataframe tbody tr th:only-of-type {\n",
       "        vertical-align: middle;\n",
       "    }\n",
       "\n",
       "    .dataframe tbody tr th {\n",
       "        vertical-align: top;\n",
       "    }\n",
       "\n",
       "    .dataframe thead th {\n",
       "        text-align: right;\n",
       "    }\n",
       "</style>\n",
       "<table border=\"1\" class=\"dataframe\">\n",
       "  <thead>\n",
       "    <tr style=\"text-align: right;\">\n",
       "      <th></th>\n",
       "      <th>dialogue</th>\n",
       "      <th>section_text</th>\n",
       "    </tr>\n",
       "  </thead>\n",
       "  <tbody>\n",
       "    <tr>\n",
       "      <th>0</th>\n",
       "      <td>Doctor: What brings you back into the clinic t...</td>\n",
       "      <td>Symptoms: no fever, no chills, no cough, no co...</td>\n",
       "    </tr>\n",
       "    <tr>\n",
       "      <th>1</th>\n",
       "      <td>Doctor: How're you feeling today?  \\nPatient: ...</td>\n",
       "      <td>Symptoms: sudden onset headache, blurry vision...</td>\n",
       "    </tr>\n",
       "    <tr>\n",
       "      <th>2</th>\n",
       "      <td>Doctor: Hello, miss. What is the reason for yo...</td>\n",
       "      <td>Symptoms: itching.\\nDiagnosis: condylomas.\\nHi...</td>\n",
       "    </tr>\n",
       "    <tr>\n",
       "      <th>3</th>\n",
       "      <td>Doctor: Are you taking any over the counter me...</td>\n",
       "      <td>Symptoms: N/A.\\r\\nDiagnosis: N/A.\\r\\nHistory o...</td>\n",
       "    </tr>\n",
       "    <tr>\n",
       "      <th>4</th>\n",
       "      <td>Doctor: Hi, how are you? \\nPatient: I burned m...</td>\n",
       "      <td>Symptoms: Burn, right arm.\\r\\nDiagnosis: N/A.\\...</td>\n",
       "    </tr>\n",
       "  </tbody>\n",
       "</table>\n",
       "</div>"
      ],
      "text/plain": [
       "                                            dialogue  \\\n",
       "0  Doctor: What brings you back into the clinic t...   \n",
       "1  Doctor: How're you feeling today?  \\nPatient: ...   \n",
       "2  Doctor: Hello, miss. What is the reason for yo...   \n",
       "3  Doctor: Are you taking any over the counter me...   \n",
       "4  Doctor: Hi, how are you? \\nPatient: I burned m...   \n",
       "\n",
       "                                        section_text  \n",
       "0  Symptoms: no fever, no chills, no cough, no co...  \n",
       "1  Symptoms: sudden onset headache, blurry vision...  \n",
       "2  Symptoms: itching.\\nDiagnosis: condylomas.\\nHi...  \n",
       "3  Symptoms: N/A.\\r\\nDiagnosis: N/A.\\r\\nHistory o...  \n",
       "4  Symptoms: Burn, right arm.\\r\\nDiagnosis: N/A.\\...  "
      ]
     },
     "execution_count": 20,
     "metadata": {},
     "output_type": "execute_result"
    }
   ],
   "source": [
    "df_clean[['dialogue', 'section_text']].head()"
   ]
  },
  {
   "cell_type": "code",
   "execution_count": 21,
   "id": "f48e8634",
   "metadata": {},
   "outputs": [],
   "source": [
    "# Create output dir\n",
    "Path(\"../data\").mkdir(parents=True, exist_ok=True)\n",
    "\n",
    "# Save as JSON\n",
    "df_clean.to_json(\"../data/cleaned_mts_dialogue_summary.json\", orient=\"records\", lines=True)\n"
   ]
  },
  {
   "cell_type": "code",
   "execution_count": null,
   "id": "ca4c7632",
   "metadata": {},
   "outputs": [],
   "source": []
  }
 ],
 "metadata": {
  "kernelspec": {
   "display_name": "Python 3",
   "language": "python",
   "name": "python3"
  },
  "language_info": {
   "codemirror_mode": {
    "name": "ipython",
    "version": 3
   },
   "file_extension": ".py",
   "mimetype": "text/x-python",
   "name": "python",
   "nbconvert_exporter": "python",
   "pygments_lexer": "ipython3",
   "version": "3.10.0"
  }
 },
 "nbformat": 4,
 "nbformat_minor": 5
}
