{
 "cells": [
  {
   "cell_type": "markdown",
   "id": "1218eb0a",
   "metadata": {},
   "source": []
  },
  {
   "cell_type": "code",
   "execution_count": 1,
   "id": "b122a4e7",
   "metadata": {},
   "outputs": [
    {
     "name": "stderr",
     "output_type": "stream",
     "text": [
      "c:\\Users\\ranji\\My Projects\\Projects\\HeyDocAI\\HeyDocAI\\venv\\lib\\site-packages\\tqdm\\auto.py:21: TqdmWarning: IProgress not found. Please update jupyter and ipywidgets. See https://ipywidgets.readthedocs.io/en/stable/user_install.html\n",
      "  from .autonotebook import tqdm as notebook_tqdm\n"
     ]
    }
   ],
   "source": [
    "from datasets import load_from_disk\n",
    "from pathlib import Path"
   ]
  },
  {
   "cell_type": "code",
   "execution_count": 2,
   "id": "0fd3310d",
   "metadata": {},
   "outputs": [
    {
     "data": {
      "text/plain": [
       "DatasetDict({\n",
       "    train: Dataset({\n",
       "        features: ['description', 'utterances'],\n",
       "        num_rows: 482\n",
       "    })\n",
       "    validation: Dataset({\n",
       "        features: ['description', 'utterances'],\n",
       "        num_rows: 60\n",
       "    })\n",
       "    test: Dataset({\n",
       "        features: ['description', 'utterances'],\n",
       "        num_rows: 61\n",
       "    })\n",
       "})"
      ]
     },
     "execution_count": 2,
     "metadata": {},
     "output_type": "execute_result"
    }
   ],
   "source": [
    "meddialog_path = Path(\"../datasets/meddialog\").resolve()\n",
    "meddialog = load_from_disk(str(meddialog_path))\n",
    "meddialog"
   ]
  },
  {
   "cell_type": "code",
   "execution_count": 3,
   "id": "72afcd45",
   "metadata": {},
   "outputs": [
    {
     "data": {
      "text/plain": [
       "{'description': Value(dtype='string', id=None),\n",
       " 'utterances': Sequence(feature={'speaker': ClassLabel(names=['patient', 'doctor'], id=None), 'utterance': Value(dtype='string', id=None)}, length=-1, id=None)}"
      ]
     },
     "execution_count": 3,
     "metadata": {},
     "output_type": "execute_result"
    }
   ],
   "source": [
    "meddialog['train'].features\n"
   ]
  },
  {
   "cell_type": "code",
   "execution_count": 13,
   "id": "03dc0b9c",
   "metadata": {},
   "outputs": [
    {
     "data": {
      "text/plain": [
       "{'description': 'throat a bit sore and want to get a good imune booster, especially in light of the virus. please advise. have not been in contact with nyone with the virus.',\n",
       " 'utterances': {'speaker': [0, 1],\n",
       "  'utterance': ['throat a bit sore and want to get a good imune booster, especially in light of the virus. please advise. have not been in contact with nyone with the virus.',\n",
       "   \"during this pandemic. throat pain can be from a strep throat infection (antibiotics needed), a cold or influenza or other virus, or from some other cause such as allergies or irritants. usually, a person sees the doctor (call first) if the sore throat is bothersome, recurrent, or doesn't go away quickly. covid-19 infections tend to have cough, whereas strep throat usually lacks cough but has more throat pain. (3/21/20)\"]}}"
      ]
     },
     "execution_count": 13,
     "metadata": {},
     "output_type": "execute_result"
    }
   ],
   "source": [
    "meddialog['train'][0]"
   ]
  },
  {
   "cell_type": "code",
   "execution_count": 14,
   "id": "d309a406",
   "metadata": {},
   "outputs": [
    {
     "name": "stdout",
     "output_type": "stream",
     "text": [
      "Filtered rows: 482\n"
     ]
    }
   ],
   "source": [
    "def is_valid_dialog(example):\n",
    "    return (\n",
    "        isinstance(example.get(\"utterances\"), dict) and\n",
    "        \"utterance\" in example[\"utterances\"] and\n",
    "        isinstance(example[\"utterances\"][\"utterance\"], list) and\n",
    "        len(example[\"utterances\"][\"utterance\"]) > 1 and\n",
    "        example.get(\"description\")\n",
    "    )\n",
    "\n",
    "filtered = meddialog['train'].filter(is_valid_dialog)\n",
    "print(\"Filtered rows:\", len(filtered))"
   ]
  },
  {
   "cell_type": "code",
   "execution_count": 15,
   "id": "65054b4a",
   "metadata": {},
   "outputs": [],
   "source": [
    "def flatten_utterances(example):\n",
    "    return {\n",
    "        \"dialogue_text\": \" \".join(example[\"utterances\"][\"utterance\"]),\n",
    "        \"label\": example[\"description\"]\n",
    "    }"
   ]
  },
  {
   "cell_type": "code",
   "execution_count": 16,
   "id": "cc811bd9",
   "metadata": {},
   "outputs": [
    {
     "name": "stderr",
     "output_type": "stream",
     "text": [
      "Map: 100%|██████████| 482/482 [00:00<00:00, 5881.81 examples/s]\n"
     ]
    },
    {
     "data": {
      "text/plain": [
       "Dataset({\n",
       "    features: ['dialogue_text', 'label'],\n",
       "    num_rows: 482\n",
       "})"
      ]
     },
     "execution_count": 16,
     "metadata": {},
     "output_type": "execute_result"
    }
   ],
   "source": [
    "filtered = meddialog['train'].filter(is_valid_dialog)\n",
    "formatted = filtered.map(flatten_utterances, remove_columns=filtered.column_names)\n",
    "formatted"
   ]
  },
  {
   "cell_type": "code",
   "execution_count": 21,
   "id": "bca185eb",
   "metadata": {},
   "outputs": [
    {
     "name": "stderr",
     "output_type": "stream",
     "text": [
      "Creating json from Arrow format: 100%|██████████| 1/1 [00:00<00:00, 124.17ba/s]\n"
     ]
    },
    {
     "data": {
      "text/plain": [
       "371522"
      ]
     },
     "execution_count": 21,
     "metadata": {},
     "output_type": "execute_result"
    }
   ],
   "source": [
    "formatted.to_json(\"../data/cleaned_meddialog.json\", orient=\"records\", lines=True)\n"
   ]
  },
  {
   "cell_type": "code",
   "execution_count": null,
   "id": "8062dc64",
   "metadata": {},
   "outputs": [],
   "source": []
  }
 ],
 "metadata": {
  "kernelspec": {
   "display_name": "Python 3",
   "language": "python",
   "name": "python3"
  },
  "language_info": {
   "codemirror_mode": {
    "name": "ipython",
    "version": 3
   },
   "file_extension": ".py",
   "mimetype": "text/x-python",
   "name": "python",
   "nbconvert_exporter": "python",
   "pygments_lexer": "ipython3",
   "version": "3.10.0"
  }
 },
 "nbformat": 4,
 "nbformat_minor": 5
}
