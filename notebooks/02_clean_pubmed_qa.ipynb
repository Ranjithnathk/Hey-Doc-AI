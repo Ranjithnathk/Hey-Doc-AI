{
 "cells": [
  {
   "cell_type": "markdown",
   "id": "d65a4f02",
   "metadata": {},
   "source": []
  },
  {
   "cell_type": "code",
   "execution_count": 1,
   "id": "d35c86d9",
   "metadata": {},
   "outputs": [
    {
     "name": "stderr",
     "output_type": "stream",
     "text": [
      "c:\\Users\\ranji\\My Projects\\Projects\\HeyDocAI\\HeyDocAI\\venv\\lib\\site-packages\\tqdm\\auto.py:21: TqdmWarning: IProgress not found. Please update jupyter and ipywidgets. See https://ipywidgets.readthedocs.io/en/stable/user_install.html\n",
      "  from .autonotebook import tqdm as notebook_tqdm\n"
     ]
    }
   ],
   "source": [
    "from datasets import load_from_disk\n",
    "from pathlib import Path"
   ]
  },
  {
   "cell_type": "code",
   "execution_count": 2,
   "id": "6e7891e8",
   "metadata": {},
   "outputs": [
    {
     "data": {
      "text/plain": [
       "DatasetDict({\n",
       "    train: Dataset({\n",
       "        features: ['QUESTION', 'CONTEXTS', 'LABELS', 'MESHES', 'YEAR', 'reasoning_required_pred', 'reasoning_free_pred', 'final_decision', 'LONG_ANSWER'],\n",
       "        num_rows: 200000\n",
       "    })\n",
       "    validation: Dataset({\n",
       "        features: ['QUESTION', 'CONTEXTS', 'LABELS', 'MESHES', 'YEAR', 'reasoning_required_pred', 'reasoning_free_pred', 'final_decision', 'LONG_ANSWER'],\n",
       "        num_rows: 11269\n",
       "    })\n",
       "})"
      ]
     },
     "execution_count": 2,
     "metadata": {},
     "output_type": "execute_result"
    }
   ],
   "source": [
    "pubmed_path = Path(\"../datasets/pubmed_qa\").resolve()\n",
    "pubmed = load_from_disk(str(pubmed_path))\n",
    "pubmed"
   ]
  },
  {
   "cell_type": "code",
   "execution_count": 4,
   "id": "9088804a",
   "metadata": {},
   "outputs": [
    {
     "data": {
      "text/plain": [
       "{'QUESTION': Value(dtype='string', id=None),\n",
       " 'CONTEXTS': Sequence(feature=Value(dtype='string', id=None), length=-1, id=None),\n",
       " 'LABELS': Sequence(feature=Value(dtype='string', id=None), length=-1, id=None),\n",
       " 'MESHES': Sequence(feature=Value(dtype='string', id=None), length=-1, id=None),\n",
       " 'YEAR': Value(dtype='string', id=None),\n",
       " 'reasoning_required_pred': Value(dtype='string', id=None),\n",
       " 'reasoning_free_pred': Value(dtype='string', id=None),\n",
       " 'final_decision': Value(dtype='string', id=None),\n",
       " 'LONG_ANSWER': Value(dtype='string', id=None)}"
      ]
     },
     "execution_count": 4,
     "metadata": {},
     "output_type": "execute_result"
    }
   ],
   "source": [
    "pubmed['train'].features\n",
    "# Expecting: QUESTION, CONTEXTS, LONG_ANSWER, ..."
   ]
  },
  {
   "cell_type": "code",
   "execution_count": 5,
   "id": "6acd1124",
   "metadata": {},
   "outputs": [
    {
     "data": {
      "text/plain": [
       "{'QUESTION': 'Does neurobehavioral disinhibition predict initiation of substance use in children with prenatal cocaine exposure?',\n",
       " 'CONTEXTS': ['In previous work we (Fisher et al., 2011) examined the emergence of neurobehavioral disinhibition (ND) in adolescents with prenatal substance exposure. We computed ND factor scores at three age points (8/9, 11 and 13/14 years) and found that both prenatal substance exposure and early adversity predicted ND. The purpose of the current study was to determine the association between these ND scores and initiation of substance use between ages 8 and 16 in this cohort as early initiation of substance use has been related to later substance use disorders. Our hypothesis was that prenatal cocaine exposure predisposes the child to ND, which, in turn, is associated with initiation of substance use by age 16.',\n",
       "  \"We studied 386 cocaine exposed and 517 unexposed children followed since birth in a longitudinal study. Five dichotomous variables were computed based on the subject's report of substance use: alcohol only; tobacco only; marijuana only; illicit substances and any substance.\",\n",
       "  'Cox proportional hazard regression showed that the 8/9 year ND score was related to initiation of alcohol, tobacco, illicit and any substance use but not marijuana use. The trajectory of ND across the three age periods was related to substance use initiation in all five substance use categories. Prenatal cocaine exposure, although initially related to tobacco, marijuana and illicit substance initiation, was no longer significant with ND scores in the models.'],\n",
       " 'LABELS': ['BACKGROUND', 'METHODS', 'RESULTS'],\n",
       " 'MESHES': ['Adolescent',\n",
       "  'Adult',\n",
       "  'Caregivers',\n",
       "  'Child',\n",
       "  'Child Abuse',\n",
       "  'Child Behavior Disorders',\n",
       "  'Cocaine',\n",
       "  'Depression',\n",
       "  'Domestic Violence',\n",
       "  'Female',\n",
       "  'Humans',\n",
       "  'Inhibition (Psychology)',\n",
       "  'Longitudinal Studies',\n",
       "  'Marijuana Abuse',\n",
       "  'Pregnancy',\n",
       "  'Prenatal Exposure Delayed Effects',\n",
       "  'Proportional Hazards Models',\n",
       "  'Puberty',\n",
       "  'Smoking',\n",
       "  'Social Environment',\n",
       "  'Socioeconomic Factors',\n",
       "  'Stress, Psychological',\n",
       "  'Substance-Related Disorders',\n",
       "  'Violence'],\n",
       " 'YEAR': None,\n",
       " 'reasoning_required_pred': None,\n",
       " 'reasoning_free_pred': None,\n",
       " 'final_decision': 'yes',\n",
       " 'LONG_ANSWER': 'Prenatal drug exposure appears to be a risk pathway to ND, which by 8/9 years portends substance use initiation.'}"
      ]
     },
     "execution_count": 5,
     "metadata": {},
     "output_type": "execute_result"
    }
   ],
   "source": [
    "pubmed['train'][0]"
   ]
  },
  {
   "cell_type": "code",
   "execution_count": 6,
   "id": "f4c3b532",
   "metadata": {},
   "outputs": [
    {
     "data": {
      "text/plain": [
       "(200000, 9)"
      ]
     },
     "execution_count": 6,
     "metadata": {},
     "output_type": "execute_result"
    }
   ],
   "source": [
    "pubmed['train'].shape"
   ]
  },
  {
   "cell_type": "code",
   "execution_count": 7,
   "id": "78732d40",
   "metadata": {},
   "outputs": [
    {
     "name": "stderr",
     "output_type": "stream",
     "text": [
      "Filter: 100%|██████████| 200000/200000 [00:10<00:00, 19331.99 examples/s]"
     ]
    },
    {
     "name": "stdout",
     "output_type": "stream",
     "text": [
      "Filtered size: 195696\n"
     ]
    },
    {
     "name": "stderr",
     "output_type": "stream",
     "text": [
      "\n"
     ]
    }
   ],
   "source": [
    "# Function to keep rows with usable context/question/long_answer\n",
    "def is_valid_example(example):\n",
    "    return (\n",
    "        example.get(\"QUESTION\") and \n",
    "        example.get(\"LONG_ANSWER\") and\n",
    "        isinstance(example.get(\"CONTEXTS\"), list) and \n",
    "        len(example[\"CONTEXTS\"]) > 0 and \n",
    "        isinstance(example[\"CONTEXTS\"][0], str) and \n",
    "        len(example[\"CONTEXTS\"][0]) > 100 and \n",
    "        len(example[\"QUESTION\"]) > 10 and \n",
    "        len(example[\"LONG_ANSWER\"]) > 10\n",
    "    )\n",
    "\n",
    "# Apply filtering\n",
    "filtered = pubmed['train'].filter(is_valid_example)\n",
    "print(\"Filtered size:\", len(filtered))\n"
   ]
  },
  {
   "cell_type": "code",
   "execution_count": 8,
   "id": "f8ec3cd4",
   "metadata": {},
   "outputs": [
    {
     "name": "stderr",
     "output_type": "stream",
     "text": [
      "Map: 100%|██████████| 195696/195696 [00:35<00:00, 5581.48 examples/s]\n"
     ]
    },
    {
     "data": {
      "text/plain": [
       "{'question': 'Does neurobehavioral disinhibition predict initiation of substance use in children with prenatal cocaine exposure?',\n",
       " 'context': 'In previous work we (Fisher et al., 2011) examined the emergence of neurobehavioral disinhibition (ND) in adolescents with prenatal substance exposure. We computed ND factor scores at three age points (8/9, 11 and 13/14 years) and found that both prenatal substance exposure and early adversity predicted ND. The purpose of the current study was to determine the association between these ND scores and initiation of substance use between ages 8 and 16 in this cohort as early initiation of substance use has been related to later substance use disorders. Our hypothesis was that prenatal cocaine exposure predisposes the child to ND, which, in turn, is associated with initiation of substance use by age 16.',\n",
       " 'answer': 'Prenatal drug exposure appears to be a risk pathway to ND, which by 8/9 years portends substance use initiation.'}"
      ]
     },
     "execution_count": 8,
     "metadata": {},
     "output_type": "execute_result"
    }
   ],
   "source": [
    "def format_example(example):\n",
    "    return {\n",
    "        \"question\": example[\"QUESTION\"],\n",
    "        \"context\": example[\"CONTEXTS\"][0],\n",
    "        \"answer\": example[\"LONG_ANSWER\"]\n",
    "    }\n",
    "\n",
    "formatted = filtered.map(format_example, remove_columns=filtered.column_names)\n",
    "formatted[0]\n"
   ]
  },
  {
   "cell_type": "code",
   "execution_count": 9,
   "id": "ab152ea5",
   "metadata": {},
   "outputs": [
    {
     "name": "stderr",
     "output_type": "stream",
     "text": [
      "Creating json from Arrow format: 100%|██████████| 196/196 [00:02<00:00, 94.56ba/s]\n"
     ]
    },
    {
     "data": {
      "text/plain": [
       "152381698"
      ]
     },
     "execution_count": 9,
     "metadata": {},
     "output_type": "execute_result"
    }
   ],
   "source": [
    "from datasets import Dataset\n",
    "import os\n",
    "\n",
    "os.makedirs(\"../data\", exist_ok=True)\n",
    "formatted.to_json(\"../data/cleaned_pubmed_qa.json\", orient=\"records\", lines=True)\n"
   ]
  },
  {
   "cell_type": "code",
   "execution_count": null,
   "id": "10834c18",
   "metadata": {},
   "outputs": [],
   "source": []
  }
 ],
 "metadata": {
  "kernelspec": {
   "display_name": "Python 3",
   "language": "python",
   "name": "python3"
  },
  "language_info": {
   "codemirror_mode": {
    "name": "ipython",
    "version": 3
   },
   "file_extension": ".py",
   "mimetype": "text/x-python",
   "name": "python",
   "nbconvert_exporter": "python",
   "pygments_lexer": "ipython3",
   "version": "3.10.0"
  }
 },
 "nbformat": 4,
 "nbformat_minor": 5
}
